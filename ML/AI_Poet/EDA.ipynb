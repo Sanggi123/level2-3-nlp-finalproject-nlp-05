{
 "cells": [
  {
   "cell_type": "markdown",
   "metadata": {},
   "source": [
    "# 삭제해야 할 패턴들\n",
    "1. \"\\xa0\"\n",
    "2. \"\\n\\n \"\n",
    "3. \"\\n\" * m (m > 2)\n",
    "4. \"\\s\" * m (m > 1)"
   ]
  },
  {
   "cell_type": "code",
   "execution_count": 1,
   "metadata": {},
   "outputs": [],
   "source": [
    "from transformers import PreTrainedTokenizerFast\n",
    "import pandas as pd\n",
    "import re"
   ]
  },
  {
   "cell_type": "code",
   "execution_count": 2,
   "metadata": {},
   "outputs": [],
   "source": [
    "def data_preprocessing(df):\n",
    "\n",
    "    # NaN 제거\n",
    "    dataset = df.dropna(subset=[\"poem\"]) # 현재 poem쪽에 NaN이 존재해서 처리해줌. TODO : 크롤링할 때, poem==NaN이면 skip하도록 구현\n",
    "\n",
    "    # 중복 제거\n",
    "    dataset = dataset.drop_duplicates([\"poem\"], keep=\"first\")\n",
    "\n",
    "    # 1000자 이상의 데이터 제거\n",
    "    dataset = dataset[dataset[\"poem\"].str.len() <= 1000]\n",
    "\n",
    "    # index 재설정\n",
    "    dataset = dataset.reset_index(drop=True) \n",
    "\n",
    "    # 아래의 패턴들을 전처리\n",
    "    # 1. \"\\xa0\"\n",
    "    # 2. \"\\s\" * m (m > 1)\n",
    "    # 3. \"\\n\\n \"\n",
    "    # 4. \"\\n\" * m (m > 2)\n",
    "    for i in range(len(dataset)):\n",
    "        dataset.iloc[i, 2] = dataset.iloc[i, 2].replace(u\"\\xa0\", u\"\")\n",
    "        dataset.iloc[i, 2] = re.sub(r\"( {2,})\", \"\", dataset[\"poem\"][i])\n",
    "        dataset.iloc[i, 2] = re.sub(r\"\\n\\n \", \"\", dataset[\"poem\"][i])\n",
    "        dataset.iloc[i, 2] = re.sub(r\"(\\n{3,})\", \"\", dataset[\"poem\"][i])\n",
    "\n",
    "    return dataset"
   ]
  },
  {
   "cell_type": "code",
   "execution_count": 4,
   "metadata": {},
   "outputs": [],
   "source": [
    "data = pd.read_csv(\"dataset/crawling_poem.csv\")\n",
    "train_dataset = data_preprocessing(data)"
   ]
  },
  {
   "cell_type": "code",
   "execution_count": 39,
   "metadata": {},
   "outputs": [],
   "source": [
    "train_dataset[\"first_line\"] = \"\"\n",
    "for i in range(len(train_dataset)):\n",
    "    text_until_newline = re.split('\\n', train_dataset[\"poem\"][i], 1)[0]\n",
    "    train_dataset.iloc[i, 4] = text_until_newline"
   ]
  }
 ],
 "metadata": {
  "kernelspec": {
   "display_name": "base",
   "language": "python",
   "name": "python3"
  },
  "language_info": {
   "codemirror_mode": {
    "name": "ipython",
    "version": 3
   },
   "file_extension": ".py",
   "mimetype": "text/x-python",
   "name": "python",
   "nbconvert_exporter": "python",
   "pygments_lexer": "ipython3",
   "version": "3.10.13"
  }
 },
 "nbformat": 4,
 "nbformat_minor": 2
}
