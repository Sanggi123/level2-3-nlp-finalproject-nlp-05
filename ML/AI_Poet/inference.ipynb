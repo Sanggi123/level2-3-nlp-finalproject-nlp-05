{
  "cells": [
    {
      "cell_type": "code",
      "execution_count": 47,
      "metadata": {
        "colab": {},
        "colab_type": "code",
        "id": "f4vrUGkBp7DZ"
      },
      "outputs": [],
      "source": [
        "from transformers import PreTrainedTokenizerFast, GPT2LMHeadModel, AutoTokenizer\n",
        "import torch"
      ]
    },
    {
      "cell_type": "code",
      "execution_count": 48,
      "metadata": {
        "colab": {},
        "colab_type": "code",
        "id": "rJWI3XmoqQW9"
      },
      "outputs": [
        {
          "data": {
            "text/plain": [
              "device(type='cuda')"
            ]
          },
          "execution_count": 48,
          "metadata": {},
          "output_type": "execute_result"
        }
      ],
      "source": [
        "device = torch.device('cuda' if torch.cuda.is_available() else 'cpu')\n",
        "device"
      ]
    },
    {
      "cell_type": "code",
      "execution_count": 49,
      "metadata": {
        "colab": {},
        "colab_type": "code",
        "id": "AKI_hmnnqjPo"
      },
      "outputs": [
        {
          "data": {
            "application/vnd.jupyter.widget-view+json": {
              "model_id": "d52ed88e17d04a4e898e8d0ea4278fee",
              "version_major": 2,
              "version_minor": 0
            },
            "text/plain": [
              "config.json:   0%|          | 0.00/1.20k [00:00<?, ?B/s]"
            ]
          },
          "metadata": {},
          "output_type": "display_data"
        },
        {
          "data": {
            "application/vnd.jupyter.widget-view+json": {
              "model_id": "1e5fc28f0e93413ba682bb4a1c80ced6",
              "version_major": 2,
              "version_minor": 0
            },
            "text/plain": [
              "pytorch_model.bin:   0%|          | 0.00/513M [00:00<?, ?B/s]"
            ]
          },
          "metadata": {},
          "output_type": "display_data"
        }
      ],
      "source": [
        "model = GPT2LMHeadModel.from_pretrained(\"gunwoo723/kogpt2-generate-poem\").to(device)\n",
        "tokenizer = PreTrainedTokenizerFast.from_pretrained(\"gunwoo723/kogpt2-generate-poem\",\n",
        "  bos_token='<s>', eos_token='</s>', unk_token='<unk>',\n",
        "  pad_token='<pad>', mask_token='<mask>')"
      ]
    },
    {
      "cell_type": "code",
      "execution_count": 50,
      "metadata": {},
      "outputs": [
        {
          "data": {
            "text/plain": [
              "Embedding(51201, 768)"
            ]
          },
          "execution_count": 50,
          "metadata": {},
          "output_type": "execute_result"
        }
      ],
      "source": [
        "tokenizer.add_special_tokens({'additional_special_tokens': [\"<yun>\"]})\n",
        "model.resize_token_embeddings(len(tokenizer))"
      ]
    },
    {
      "cell_type": "code",
      "execution_count": 51,
      "metadata": {},
      "outputs": [],
      "source": [
        "sentence = '<s>멈춰버린 시계 속 마지막으로 남은 바램\\n'\n",
        "input_ids = tokenizer.encode(sentence, add_special_tokens=True, return_tensors='pt').to(device)\n",
        "\n",
        "with torch.no_grad():\n",
        "    output = model.generate(\n",
        "        input_ids=input_ids,\n",
        "        temperature=0.5, # 생성 다양성 조절\n",
        "        min_length=128, # 생성되는 문장의 최소 길이\n",
        "        max_length=512, # 생성되는 문장의 최대 길이\n",
        "        repetition_penalty=1.2, # 반복을 줄이는 패널티\n",
        "        do_sample=True, # 샘플링 기반 생성 활성화\n",
        "        early_stopping=True, # EOS token을 만나면 조기 종료\n",
        "        eos_token_id=tokenizer.eos_token_id\n",
        "    )\n",
        "\n",
        "generated_sequence = output[0].tolist()\n",
        "text = tokenizer.decode(generated_sequence, skip_special_tokens=False)"
      ]
    },
    {
      "cell_type": "code",
      "execution_count": 52,
      "metadata": {},
      "outputs": [],
      "source": [
        "text = text.replace(\"<yun> \", \"\\n\").replace(\"<s> \", \"\").replace(\"</s>\", \"\")"
      ]
    },
    {
      "cell_type": "code",
      "execution_count": 53,
      "metadata": {},
      "outputs": [
        {
          "name": "stdout",
          "output_type": "stream",
          "text": [
            "멈춰버린 시계 속 마지막으로 남은 바램\n",
            "하얀 목련이 피던 그날처럼 \n",
            "내 마음도 한겨울의 찬바람에 녹아버렸네\n",
            "\n",
            "내 그대를 향한 고백은 끝이 없지만\n",
            "그대와의 만남을 위해선 기다림이 필요해\n",
            "하루 하루가 다르게 자라나는 나만의 추억들\n",
            "\n",
            "겨울 산길에서 만난 그대 향기\n",
            "가슴깊이 묻어 둔 사연 들추어내어\n",
            "고운 눈빛으로 그려보는 나의 사랑아\n",
            "\n",
            "떠나간다는 것은 새봄의 환희로 다가온다지만\n",
            "언제나 변함없는 내 모습 그리워\n",
            "나만 그런 것이 아니라면 괜찮겠지\n"
          ]
        }
      ],
      "source": [
        "print(text)"
      ]
    }
  ],
  "metadata": {
    "accelerator": "GPU",
    "colab": {
      "authorship_tag": "ABX9TyN+1o7ZT89AaH0RyjJRww3h",
      "include_colab_link": true,
      "name": "3. Generater.ipynb",
      "provenance": []
    },
    "kernelspec": {
      "display_name": "Python 3",
      "name": "python3"
    },
    "language_info": {
      "codemirror_mode": {
        "name": "ipython",
        "version": 3
      },
      "file_extension": ".py",
      "mimetype": "text/x-python",
      "name": "python",
      "nbconvert_exporter": "python",
      "pygments_lexer": "ipython3",
      "version": "3.10.13"
    }
  },
  "nbformat": 4,
  "nbformat_minor": 0
}
