{
  "cells": [
    {
      "cell_type": "code",
      "execution_count": 1,
      "metadata": {
        "colab": {},
        "colab_type": "code",
        "id": "f4vrUGkBp7DZ"
      },
      "outputs": [],
      "source": [
        "from transformers import PreTrainedTokenizerFast, GPT2LMHeadModel, AutoTokenizer, AutoModelForCausalLM\n",
        "import torch"
      ]
    },
    {
      "cell_type": "code",
      "execution_count": 2,
      "metadata": {
        "colab": {},
        "colab_type": "code",
        "id": "rJWI3XmoqQW9"
      },
      "outputs": [
        {
          "data": {
            "text/plain": [
              "device(type='cuda')"
            ]
          },
          "execution_count": 2,
          "metadata": {},
          "output_type": "execute_result"
        }
      ],
      "source": [
        "device = torch.device('cuda' if torch.cuda.is_available() else 'cpu')\n",
        "device"
      ]
    },
    {
      "cell_type": "code",
      "execution_count": 3,
      "metadata": {},
      "outputs": [
        {
          "data": {
            "application/vnd.jupyter.widget-view+json": {
              "model_id": "42769762f8994f87b07d52c9a5c0f67d",
              "version_major": 2,
              "version_minor": 0
            },
            "text/plain": [
              "Loading checkpoint shards:   0%|          | 0/2 [00:00<?, ?it/s]"
            ]
          },
          "metadata": {},
          "output_type": "display_data"
        }
      ],
      "source": [
        "model = AutoModelForCausalLM.from_pretrained(\"output/merge_lora\").to(device)\n",
        "tokenizer = AutoTokenizer.from_pretrained(\"output/merge_lora\")"
      ]
    },
    {
      "cell_type": "code",
      "execution_count": null,
      "metadata": {
        "colab": {},
        "colab_type": "code",
        "id": "AKI_hmnnqjPo"
      },
      "outputs": [],
      "source": [
        "model = GPT2LMHeadModel.from_pretrained(\"gunwoo723/kogpt-trinity-poem-generator\").to(device)\n",
        "tokenizer = PreTrainedTokenizerFast.from_pretrained(\"gunwoo723/kogpt-trinity-poem-generator\",\n",
        "  bos_token='<s>', eos_token='</s>', unk_token='<unk>',\n",
        "  pad_token='<pad>', mask_token='<mask>')"
      ]
    },
    {
      "cell_type": "code",
      "execution_count": null,
      "metadata": {},
      "outputs": [],
      "source": [
        "tokenizer.add_special_tokens({'additional_special_tokens': [\"<yun>\"]})\n",
        "model.resize_token_embeddings(len(tokenizer))"
      ]
    },
    {
      "cell_type": "code",
      "execution_count": 15,
      "metadata": {},
      "outputs": [],
      "source": [
        "sentence = '[BOS]멈춰버린 시계 속 마지막으로 남은 바램\\n'\n",
        "inputs = tokenizer(sentence, add_special_tokens=True, return_tensors='pt').to(device)\n",
        "\n",
        "with torch.no_grad():\n",
        "    output = model.generate(\n",
        "        input_ids=inputs[\"input_ids\"],\n",
        "        temperature=1.0, # 생성 다양성 조절\n",
        "        min_length=64, # 생성되는 문장의 최소 길이\n",
        "        max_length=128, # 생성되는 문장의 최대 길이\n",
        "        repetition_penalty=1.2, # 반복을 줄이는 패널티\n",
        "        do_sample=True, # 샘플링 기반 생성 활성화\n",
        "        early_stopping=True, # EOS token을 만나면 조기 종료\n",
        "        eos_token_id=tokenizer.eos_token_id,\n",
        "        pad_token_id=tokenizer.pad_token_id,\n",
        "        bos_token_id=tokenizer.bos_token_id,\n",
        "        attention_mask=inputs[\"attention_mask\"]\n",
        "    )\n",
        "\n",
        "generated_sequence = output[0].tolist()\n",
        "text = tokenizer.decode(generated_sequence, skip_special_tokens=False)"
      ]
    },
    {
      "cell_type": "code",
      "execution_count": 16,
      "metadata": {},
      "outputs": [],
      "source": [
        "text = text.replace(\"[YUN]\", \"\\n\").replace(\"[BOS]\", \"\").replace(\"[EOS]\", \"\")"
      ]
    },
    {
      "cell_type": "code",
      "execution_count": 17,
      "metadata": {},
      "outputs": [
        {
          "name": "stdout",
          "output_type": "stream",
          "text": [
            "멈춰버린 시계 속 마지막으로 남은 바램\n",
            "'세상의 빛'이 되다.\n",
            "시간을 지배하는 자. 절대권력자가 되었던 전설적 CEO, 이 사람! 지금도 당신에게 있어 '1년'이란 의미의 숫자는 어떤 것일까.. 아마도 한 해의 시작에 앞서 혹은 새해의 각오를 다짐하고 결의할 때 말이다. 1이란 글자가 가진 특별한 느낌과 상징성이 우리들의 마음속에서 일고 있음은 부정할 수 없으리라 생각한다. 하지만 그 1 자체의 절대성과 유일성으로 인해 인간 삶속에서 '시간' 개념의\n"
          ]
        }
      ],
      "source": [
        "print(text)"
      ]
    }
  ],
  "metadata": {
    "accelerator": "GPU",
    "colab": {
      "authorship_tag": "ABX9TyN+1o7ZT89AaH0RyjJRww3h",
      "include_colab_link": true,
      "name": "3. Generater.ipynb",
      "provenance": []
    },
    "kernelspec": {
      "display_name": "Python 3",
      "name": "python3"
    },
    "language_info": {
      "codemirror_mode": {
        "name": "ipython",
        "version": 3
      },
      "file_extension": ".py",
      "mimetype": "text/x-python",
      "name": "python",
      "nbconvert_exporter": "python",
      "pygments_lexer": "ipython3",
      "version": "3.10.13"
    }
  },
  "nbformat": 4,
  "nbformat_minor": 0
}
