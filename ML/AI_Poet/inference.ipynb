{
  "cells": [
    {
      "cell_type": "code",
      "execution_count": 1,
      "metadata": {
        "colab": {},
        "colab_type": "code",
        "id": "f4vrUGkBp7DZ"
      },
      "outputs": [],
      "source": [
        "from transformers import PreTrainedTokenizerFast, GPT2LMHeadModel\n",
        "import torch"
      ]
    },
    {
      "cell_type": "code",
      "execution_count": 2,
      "metadata": {
        "colab": {},
        "colab_type": "code",
        "id": "rJWI3XmoqQW9"
      },
      "outputs": [
        {
          "data": {
            "text/plain": [
              "device(type='cuda')"
            ]
          },
          "execution_count": 2,
          "metadata": {},
          "output_type": "execute_result"
        }
      ],
      "source": [
        "device = torch.device('cuda' if torch.cuda.is_available() else 'cpu')\n",
        "device"
      ]
    },
    {
      "cell_type": "code",
      "execution_count": 3,
      "metadata": {
        "colab": {},
        "colab_type": "code",
        "id": "AKI_hmnnqjPo"
      },
      "outputs": [
        {
          "data": {
            "application/vnd.jupyter.widget-view+json": {
              "model_id": "1800e1d3391c4f0880ad931ed90d6807",
              "version_major": 2,
              "version_minor": 0
            },
            "text/plain": [
              "config.json:   0%|          | 0.00/1.20k [00:00<?, ?B/s]"
            ]
          },
          "metadata": {},
          "output_type": "display_data"
        },
        {
          "data": {
            "application/vnd.jupyter.widget-view+json": {
              "model_id": "0ec52d459fee4beb9cf3dd13e121b45c",
              "version_major": 2,
              "version_minor": 0
            },
            "text/plain": [
              "pytorch_model.bin:   0%|          | 0.00/513M [00:00<?, ?B/s]"
            ]
          },
          "metadata": {},
          "output_type": "display_data"
        },
        {
          "data": {
            "application/vnd.jupyter.widget-view+json": {
              "model_id": "c7c6c78f4aa64e60b5d4587f6f2dc6f0",
              "version_major": 2,
              "version_minor": 0
            },
            "text/plain": [
              "tokenizer_config.json:   0%|          | 0.00/301 [00:00<?, ?B/s]"
            ]
          },
          "metadata": {},
          "output_type": "display_data"
        },
        {
          "data": {
            "application/vnd.jupyter.widget-view+json": {
              "model_id": "d74a07ba1e0045b8884e5ff9b76d5b12",
              "version_major": 2,
              "version_minor": 0
            },
            "text/plain": [
              "tokenizer.json:   0%|          | 0.00/2.25M [00:00<?, ?B/s]"
            ]
          },
          "metadata": {},
          "output_type": "display_data"
        },
        {
          "data": {
            "application/vnd.jupyter.widget-view+json": {
              "model_id": "b913b06eccd6440a837e73263681d04e",
              "version_major": 2,
              "version_minor": 0
            },
            "text/plain": [
              "special_tokens_map.json:   0%|          | 0.00/123 [00:00<?, ?B/s]"
            ]
          },
          "metadata": {},
          "output_type": "display_data"
        }
      ],
      "source": [
        "model = GPT2LMHeadModel.from_pretrained(\"gunwoo723/kogpt2-generate-poem\").to(device)\n",
        "tokenizer = PreTrainedTokenizerFast.from_pretrained(\"gunwoo723/kogpt2-generate-poem\",\n",
        "  bos_token='</s>', eos_token='</s>', unk_token='<unk>',\n",
        "  pad_token='<pad>', mask_token='<mask>')"
      ]
    },
    {
      "cell_type": "code",
      "execution_count": 6,
      "metadata": {},
      "outputs": [],
      "source": [
        "sentence = '쓸쓸한 새벽빛 아래 잊혀진 이름\\n'\n",
        "input_ids = tokenizer.encode(sentence, add_special_tokens=True, return_tensors='pt').to(device)\n",
        "\n",
        "with torch.no_grad():\n",
        "    output = model.generate(\n",
        "        input_ids=input_ids,\n",
        "        temperature=0.01, # 생성 다양성 조절\n",
        "        max_length=128, # 생성되는 문장의 최대 길이\n",
        "        repetition_penalty=1.2, # 반복을 줄이는 패널티\n",
        "        do_sample=True, # 샘플링 기반 생성 활성화\n",
        "        early_stopping=True, # EOS token을 만나면 조기 종료\n",
        "    )\n",
        "\n",
        "generated_sequence = output[0].tolist()\n",
        "text = tokenizer.decode(generated_sequence, skip_special_tokens=True)"
      ]
    },
    {
      "cell_type": "code",
      "execution_count": 7,
      "metadata": {},
      "outputs": [
        {
          "name": "stdout",
          "output_type": "stream",
          "text": [
            "쓸쓸한 새벽빛 아래 잊혀진 이름\n",
            "그대 그리워하는 마음\n",
            "아직도 내 가슴엔 그댈 향한 그리움\n",
            "그리운 사람만 기억하고 있네요\n",
            "\n",
            "이제는 추억의 앨범에 담아서\n",
            "내게로 불러보는 그대 얼굴\n",
            "어느새 내 마음은 그대를 향해 \n",
            "마음껏 뒹굴고 싶은데\n",
            "\n",
            "오늘도 그대는 내게 오지 않고\n",
            "나는 아직도 그대의 곁에 서있네요\n"
          ]
        }
      ],
      "source": [
        "print(text)"
      ]
    },
    {
      "cell_type": "code",
      "execution_count": null,
      "metadata": {},
      "outputs": [],
      "source": [
        "sentence = '돈'\n",
        "toked = tokenizer(\"</s>\" + sentence)\n",
        "temp = []\n",
        "cnt = 0\n",
        "while True:\n",
        "  input_ids = torch.tensor(toked[\"input_ids\"]).unsqueeze(0).to(device)\n",
        "  pred = model(input_ids)[0]\n",
        "\n",
        "  gen = tokenizer.decode(torch.argmax(pred, axis=-1).squeeze().tolist())\n",
        "  print(gen)\n",
        "  print(\"선택한 단어 : \", gen[-1])\n",
        "  gen = gen[-1]\n",
        "  cnt += 1\n",
        "\n",
        "  if cnt == 50:\n",
        "    break\n",
        "\n",
        "  if '' == gen:\n",
        "    break\n",
        "  sentence += gen.replace('▁', ' ')\n",
        "  toked = tokenizer(sentence)\n",
        "\n",
        "print(sentence)"
      ]
    }
  ],
  "metadata": {
    "accelerator": "GPU",
    "colab": {
      "authorship_tag": "ABX9TyN+1o7ZT89AaH0RyjJRww3h",
      "include_colab_link": true,
      "name": "3. Generater.ipynb",
      "provenance": []
    },
    "kernelspec": {
      "display_name": "Python 3",
      "name": "python3"
    },
    "language_info": {
      "codemirror_mode": {
        "name": "ipython",
        "version": 3
      },
      "file_extension": ".py",
      "mimetype": "text/x-python",
      "name": "python",
      "nbconvert_exporter": "python",
      "pygments_lexer": "ipython3",
      "version": "3.10.13"
    }
  },
  "nbformat": 4,
  "nbformat_minor": 0
}
